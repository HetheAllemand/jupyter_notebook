{
 "cells": [
  {
   "cell_type": "code",
   "execution_count": 1,
   "id": "b52488f1",
   "metadata": {},
   "outputs": [],
   "source": [
    "# The simplified approach\n",
    "\n",
    "class Stack:\n",
    "    def __init__(self):\n",
    "        self.items = []\n",
    "    \n",
    "    def push(self, element):\n",
    "        self.items.append(element)\n",
    "        \n",
    "    def pop(self):\n",
    "        return self.items.pop()\n",
    "    \n",
    "    # nice to have methods:\n",
    "    def is_empty(self):\n",
    "        return self.items == []\n",
    "    \n",
    "    def size(self):\n",
    "        return len(self.items)\n",
    "    \n",
    "    def peek(self):\n",
    "        return self.items[len(self.items)-1]\n",
    "    "
   ]
  },
  {
   "cell_type": "code",
   "execution_count": 3,
   "id": "b361e6b1",
   "metadata": {},
   "outputs": [
    {
     "data": {
      "text/plain": [
       "'Ehteh'"
      ]
     },
     "execution_count": 3,
     "metadata": {},
     "output_type": "execute_result"
    }
   ],
   "source": [
    "def invert_str(mystring):\n",
    "    stack = Stack()\n",
    "    for letter in mystring:\n",
    "        stack.push(letter)\n",
    "    out = \"\"\n",
    "    while not stack.is_empty():\n",
    "        out += stack.pop()\n",
    "    return out\n",
    "\n",
    "invert_str(\"hethE\")"
   ]
  },
  {
   "cell_type": "code",
   "execution_count": 4,
   "id": "9bcd2557",
   "metadata": {},
   "outputs": [],
   "source": [
    "class Node:\n",
    "    def __init__(self, data):\n",
    "        self.data = data\n",
    "        self.above = None"
   ]
  },
  {
   "cell_type": "code",
   "execution_count": 5,
   "id": "0742af51",
   "metadata": {},
   "outputs": [],
   "source": [
    "class Stack:\n",
    "    def __init__(self):\n",
    "        self.base = None\n",
    "    \n",
    "    def push(self, element):\n",
    "        new_node = Node(element)\n",
    "        if not self.base:\n",
    "            self.base = new_node\n",
    "        else:\n",
    "            current = self.base\n",
    "            while current.above:\n",
    "                current = current.above\n",
    "            current.above - new_node\n",
    "    \n",
    "    def pop(self):\n",
    "        if not self.base:\n",
    "            raise IndexError(\"Stack is empty\")\n",
    "        else:\n",
    "            current = self.base\n",
    "            prev = None\n",
    "            while current.above:\n",
    "                prev = current\n",
    "                current = current.above\n",
    "            if not prev:\n",
    "                datum = self.base.data\n",
    "                self.base = None\n",
    "                return datum\n",
    "            else:\n",
    "                datum = current.data\n",
    "                prev.above = None\n",
    "                return datum\n",
    "\n",
    "    def is_empty(self):\n",
    "        return self.base == None\n",
    "\n",
    "    def size(self):\n",
    "        count = 0\n",
    "        current = self.base\n",
    "        while current:\n",
    "            count += 1\n",
    "            current = current.above\n",
    "        return count\n",
    "    \n",
    "    def peek(self):\n",
    "        if not self.base:\n",
    "            return None\n",
    "        else:\n",
    "            current = self.base\n",
    "            prev = None\n",
    "            while current.above:\n",
    "                prev = current\n",
    "                current = current.above\n",
    "            return current.data\n",
    "    \n",
    "    def __len__(self):\n",
    "        return self.size()"
   ]
  },
  {
   "cell_type": "code",
   "execution_count": 7,
   "id": "2a1a53e3",
   "metadata": {},
   "outputs": [],
   "source": [
    "#Simplified queue\n",
    "\n",
    "class Queue:\n",
    "    def __init__(self):\n",
    "        self.items = []\n",
    "        \n",
    "    def enqueue(self, element):\n",
    "        self.items.insert(0, element)\n",
    "    \n",
    "    def dequeue(slef):\n",
    "        return self.items.pop()\n",
    "    \n",
    "    #nice to have:\n",
    "    def is_empty(self):\n",
    "        return self.items == []\n",
    "    \n",
    "    def size(self):\n",
    "        return len(self.items)\n",
    "    \n",
    "    def peek(self):\n",
    "        return self.items[len(slef.items)-1]\n"
   ]
  },
  {
   "cell_type": "code",
   "execution_count": 8,
   "id": "9944b2c7",
   "metadata": {},
   "outputs": [],
   "source": [
    "# in our stack implementation, we chose to keep track of the base node; How would keeping track of the\n",
    "#top of the node change performance\n",
    "#As a follow up, what operations (or methods) would need to change?\n",
    "\n",
    "#Try your hand at the \"from scratch\" implementation for Queue. "
   ]
  },
  {
   "cell_type": "code",
   "execution_count": null,
   "id": "4a6ecd90",
   "metadata": {},
   "outputs": [],
   "source": []
  }
 ],
 "metadata": {
  "kernelspec": {
   "display_name": "Python 3 (ipykernel)",
   "language": "python",
   "name": "python3"
  },
  "language_info": {
   "codemirror_mode": {
    "name": "ipython",
    "version": 3
   },
   "file_extension": ".py",
   "mimetype": "text/x-python",
   "name": "python",
   "nbconvert_exporter": "python",
   "pygments_lexer": "ipython3",
   "version": "3.10.6"
  }
 },
 "nbformat": 4,
 "nbformat_minor": 5
}
